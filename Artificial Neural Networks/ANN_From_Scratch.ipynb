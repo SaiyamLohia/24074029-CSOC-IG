{
  "nbformat": 4,
  "nbformat_minor": 0,
  "metadata": {
    "colab": {
      "provenance": []
    },
    "kernelspec": {
      "name": "python3",
      "display_name": "Python 3"
    },
    "language_info": {
      "name": "python"
    }
  },
  "cells": [
    {
      "cell_type": "code",
      "execution_count": 1,
      "metadata": {
        "id": "6uznHH_oCDCJ"
      },
      "outputs": [],
      "source": [
        "import numpy as np\n",
        "import pandas as pd\n",
        "import random\n",
        "import seaborn as sns\n",
        "import matplotlib.pyplot as plt\n",
        "\n",
        "np.random.seed(0)"
      ]
    },
    {
      "cell_type": "code",
      "source": [
        "class NeuralNetwork:\n",
        "  def ReLU(self, input):\n",
        "    return np.maximum(0, input)\n",
        "\n",
        "  def SoftMax(self, input):\n",
        "\n",
        "    # print(\"Any NaNs in input?\", np.isnan(input).any())\n",
        "\n",
        "    exp_values = np.exp(input - np.max(input, axis=1, keepdims=True))\n",
        "    exp_sum = np.sum(exp_values, axis=1, keepdims=True)\n",
        "    return  exp_values / exp_sum\n",
        "\n",
        "  def compute_f1_score(self, y_true, y_pred, num_classes):\n",
        "    f1_scores = []\n",
        "    for c in range(num_classes):\n",
        "        tp = np.sum((y_pred == c) & (y_true == c))\n",
        "        fp = np.sum((y_pred == c) & (y_true != c))\n",
        "        fn = np.sum((y_pred != c) & (y_true == c))\n",
        "\n",
        "        precision = tp / (tp + fp) if (tp + fp) > 0 else 0.0\n",
        "        recall = tp / (tp + fn) if (tp + fn) > 0 else 0.0\n",
        "\n",
        "        if precision + recall == 0:\n",
        "            f1 = 0.0\n",
        "        else:\n",
        "            f1 = 2 * precision * recall / (precision + recall)\n",
        "\n",
        "        f1_scores.append(f1)\n",
        "\n",
        "    return np.mean(f1_scores)  # macro-averaged F1\n",
        "\n",
        "  def compute_precision_recall_auc(self, y_true, y_scores):\n",
        "    desc_order = np.argsort(-y_scores)\n",
        "    y_true = y_true[desc_order]\n",
        "    y_scores = y_scores[desc_order]\n",
        "\n",
        "    precisions = []\n",
        "    recalls = []\n",
        "\n",
        "    tp = 0\n",
        "    fp = 0\n",
        "    fn = np.sum(y_true == 1)  # all positives to start with\n",
        "\n",
        "    for i in range(len(y_scores)):\n",
        "        if y_true[i] == 1:\n",
        "            tp += 1\n",
        "            fn -= 1\n",
        "        else:\n",
        "            fp += 1\n",
        "\n",
        "        precision = tp / (tp + fp) if (tp + fp) > 0 else 1.0\n",
        "        recall = tp / (tp + fn) if (tp + fn) > 0 else 0.0\n",
        "\n",
        "        precisions.append(precision)\n",
        "        recalls.append(recall)\n",
        "\n",
        "    # Compute area under curve using trapezoidal rule\n",
        "    precisions = np.array(precisions)\n",
        "    recalls = np.array(recalls)\n",
        "\n",
        "    # Sort by recall to compute AUC\n",
        "    recall_sorted_idx = np.argsort(recalls)\n",
        "    recalls = recalls[recall_sorted_idx]\n",
        "    precisions = precisions[recall_sorted_idx]\n",
        "\n",
        "    auc = np.sum((recalls[1:] - recalls[:-1]) * (precisions[1:] + precisions[:-1]) / 2)\n",
        "\n",
        "    return auc\n",
        "\n",
        "\n",
        "\n",
        "  def Loss(self, y_pred, y_true):\n",
        "    samples = len(y_pred)\n",
        "    y_pred_clipped = np.clip(y_pred, 1e-7, 1-1e-7)\n",
        "\n",
        "    if len(y_true.shape) == 1:\n",
        "      correct_confidences = y_pred_clipped[range(samples), y_true]\n",
        "    elif len(y_true.shape) == 2:\n",
        "      correct_confidences = np.sum(y_pred_clipped * y_true, axis=1)\n",
        "\n",
        "    # print(\"y_pred shape:\", y_pred_clipped.shape)  # Should be (samples, num_classes)\n",
        "    # print(\"Unique y_true labels:\", np.unique(y_true))\n",
        "    # print(\"Max label in y_true:\", np.max(y_true))\n",
        "    # print(\"Number of classes in y_pred:\", y_pred.shape[1])\n",
        "\n",
        "    # print(\"Min y_pred_clipped: \", np.min(y_pred_clipped))\n",
        "    # print(\"Min correct_confidences: \", np.min(correct_confidences))\n",
        "\n",
        "    # print(\"y_true shape: \", y_true.shape)\n",
        "\n",
        "    # print(y_pred_clipped)\n",
        "    # print(y_true)\n",
        "    # print(correct_confidences)\n",
        "\n",
        "\n",
        "    assert np.all(y_true >= 0)\n",
        "    assert np.all(y_true < y_pred.shape[1])\n",
        "\n",
        "\n",
        "    loss = -np.log(correct_confidences)\n",
        "    return np.mean(loss)\n",
        "\n",
        "  def Backward_Loss_Softmax(self, y_pred, y_true):\n",
        "    samples = len(y_pred)\n",
        "\n",
        "    if len(y_true.shape) == 2:\n",
        "      y_true = np.argmax(y_true, axis=1)\n",
        "\n",
        "    dvalues = y_pred.copy()\n",
        "    dvalues[range(samples), y_true] -= 1\n",
        "\n",
        "    return dvalues / samples\n",
        "\n",
        "  def __init__(self, layers: list):\n",
        "    self.weights = [] #3D Matrix with a 2-D matrix per layer\n",
        "    self.biases = []  #2D Matrix with a Vector per layer\n",
        "    self.layers = layers\n",
        "\n",
        "    for i in range(len(layers) - 1):\n",
        "      limit = np.sqrt(6 / (layers[i] + layers[i + 1]))\n",
        "      self.weights.append(np.random.uniform(-limit, limit, size=(layers[i], layers[i + 1])))\n",
        "      self.biases.append(np.zeros((1, layers[i + 1])))\n",
        "\n",
        "  def forward(self, X):\n",
        "    self.activations = [X]\n",
        "    self.Z = []\n",
        "\n",
        "    for i in range(len(self.layers) - 2):\n",
        "      z = np.dot(self.activations[i], self.weights[i]) + self.biases[i]\n",
        "      self.activations.append(self.ReLU(z))\n",
        "      self.Z.append(z)\n",
        "\n",
        "    z = np.dot(self.activations[-1], self.weights[-1]) + self.biases[-1]\n",
        "    self.activations.append(self.SoftMax(z))\n",
        "    self.Z.append(z)\n",
        "\n",
        "    return self.activations[-1]\n",
        "\n",
        "  def backward(self, X, y):\n",
        "    dw = [None] * len(self.weights)\n",
        "    db = [None] * len(self.biases)\n",
        "\n",
        "    dZ = self.Backward_Loss_Softmax(self.activations[-1], y)\n",
        "\n",
        "    for i in reversed(range(len(self.weights))):\n",
        "      dw[i] = self.activations[i].T @ dZ\n",
        "      db[i] = np.sum(dZ, axis=0, keepdims=True)\n",
        "\n",
        "      if i != 0:\n",
        "        dZ = (dZ @ self.weights[i].T) * (self.Z[i - 1] > 0)\n",
        "\n",
        "    return dw, db\n",
        "\n",
        "  def train(self, X_train, y_train, alpha=0.001, epochs=30, batch_size=32):\n",
        "\n",
        "      self.costs = []\n",
        "      self.iters = []\n",
        "      self.accuracies = []\n",
        "\n",
        "      num_samples = len(X_train)\n",
        "      num_batches = int(np.ceil(num_samples / batch_size))\n",
        "\n",
        "      for epoch in range(epochs):\n",
        "          permutation = np.random.permutation(num_samples)\n",
        "          X_train_shuffled = X_train[permutation]\n",
        "          y_train_shuffled = y_train[permutation]\n",
        "\n",
        "          epoch_costs = []\n",
        "\n",
        "          for i in range(num_batches):\n",
        "              start = i * batch_size\n",
        "              end = start + batch_size\n",
        "              X_batch = X_train_shuffled[start:end]\n",
        "              y_batch = y_train_shuffled[start:end]\n",
        "\n",
        "              self.forward(X_batch)\n",
        "              dw, db = self.backward(X_batch, y_batch)\n",
        "              batch_cost = self.Loss(self.activations[-1], y_batch) # average loss per batch\n",
        "              epoch_costs.append(batch_cost)\n",
        "\n",
        "              for j in range(len(self.weights)):\n",
        "                  self.weights[j] -= alpha * dw[j]\n",
        "                  self.biases[j] -= alpha * db[j]\n",
        "\n",
        "          avg_cost = np.mean(epoch_costs)\n",
        "          self.costs.append(avg_cost)\n",
        "          self.iters.append(epoch)\n",
        "\n",
        "          y_pred = self.forward(X_train)\n",
        "          predicted_classes = np.argmax(y_pred, axis=1)\n",
        "\n",
        "          if len(y_train.shape) == 2:\n",
        "              y_true = np.argmax(y_train, axis=1)\n",
        "          else:\n",
        "              y_true = y_train\n",
        "\n",
        "          accuracy = np.mean(predicted_classes == y_true)\n",
        "          self.accuracies.append(accuracy)\n",
        "\n",
        "          f1 = self.compute_f1_score(y_true, predicted_classes, num_classes=self.layers[-1])\n",
        "\n",
        "          print(f\"Epoch {epoch+1}/{epochs} — Loss: {avg_cost:.4f} — Test Accuracy: {accuracy:.4f} — F1 Score: {f1:.4f}\")\n",
        "\n",
        "      return\n"
      ],
      "metadata": {
        "id": "QIzNmRgjCOAs"
      },
      "execution_count": 2,
      "outputs": []
    },
    {
      "cell_type": "code",
      "source": [
        "df = pd.read_csv('/content/train.csv')\n",
        "df = df.dropna()\n",
        "\n",
        "df = df[df['Age'] >= 0].reset_index(drop=True)\n",
        "\n",
        "df['ScheduledDay'] = pd.to_datetime(df['ScheduledDay'], errors='coerce')\n",
        "df['AppointmentDay'] = pd.to_datetime(df['AppointmentDay'], errors='coerce')\n",
        "\n",
        "df['waiting_days'] = ((df['AppointmentDay'] - df['ScheduledDay']).dt.days) + 1\n",
        "df['appointment_weekday'] = df['AppointmentDay'].dt.weekday\n",
        "\n",
        "df['No-show'] = df['No-show'].map({'No': 0, 'Yes': 1})\n",
        "df['SMS_received'] = df['SMS_received'].astype(int)\n",
        "df['Scholarship'] = df['Scholarship'].astype(int)\n",
        "\n",
        "df = pd.get_dummies(df, columns=['Gender'], drop_first=True)\n",
        "df['Gender_M'] = df['Gender_M'].astype(int)\n",
        "\n",
        "df['Neighbourhood_encoded'], uniques = pd.factorize(df['Neighbourhood'])\n",
        "\n",
        "df = df[df['Handcap'] <= 1]\n",
        "\n",
        "df['num_prev_appts'] = df.groupby('PatientId').cumcount() + 1\n",
        "df['missed_before'] = (\n",
        "    df.groupby('PatientId')['No-show']\n",
        "    .transform(lambda x: x.shift().cumsum())\n",
        "    .fillna(0)\n",
        ")\n",
        "\n",
        "df['missed_before'] = df['missed_before'].astype(int)\n",
        "\n",
        "df['prev_no_show_rate'] = df['missed_before'] / df['num_prev_appts']\n"
      ],
      "metadata": {
        "id": "0TTMK8eTCP0u",
        "colab": {
          "base_uri": "https://localhost:8080/"
        },
        "outputId": "8b123d3a-c517-44f6-f23a-603af12f1225"
      },
      "execution_count": 3,
      "outputs": [
        {
          "output_type": "stream",
          "name": "stderr",
          "text": [
            "<ipython-input-3-e0a6fbceff7c>:23: SettingWithCopyWarning: \n",
            "A value is trying to be set on a copy of a slice from a DataFrame.\n",
            "Try using .loc[row_indexer,col_indexer] = value instead\n",
            "\n",
            "See the caveats in the documentation: https://pandas.pydata.org/pandas-docs/stable/user_guide/indexing.html#returning-a-view-versus-a-copy\n",
            "  df['num_prev_appts'] = df.groupby('PatientId').cumcount() + 1\n"
          ]
        }
      ]
    },
    {
      "cell_type": "code",
      "source": [
        "df['age_scaled'] = (df['Age'] - df['Age'].mean()) / df['Age'].std()\n",
        "df['waiting_days'] = (df['waiting_days'] - df['waiting_days'].mean()) / df['waiting_days'].std()\n",
        "df['Neighbourhood_encoded'] = (df['Neighbourhood_encoded'] - df['Neighbourhood_encoded'].mean()) / df['Neighbourhood_encoded'].std()\n",
        "df['num_prev_appts'] = (df['num_prev_appts'] - df['num_prev_appts'].mean()) / df['num_prev_appts'].std()\n",
        "df['appointment_weekday'] = (df['appointment_weekday'] - df['appointment_weekday'].mean()) / df['appointment_weekday'].std()"
      ],
      "metadata": {
        "id": "-AAMmgmtcTCh"
      },
      "execution_count": 4,
      "outputs": []
    },
    {
      "cell_type": "code",
      "source": [
        "features = ['age_scaled', 'Scholarship', 'Hipertension', 'Diabetes',\n",
        "            'Alcoholism', 'Handcap', 'SMS_received', 'waiting_days',\n",
        "            'appointment_weekday', 'Gender_M', 'Neighbourhood_encoded',\n",
        "            'prev_no_show_rate', 'num_prev_appts']\n",
        "target = ['No-show']"
      ],
      "metadata": {
        "id": "lBIfeHpPX-aF"
      },
      "execution_count": 5,
      "outputs": []
    },
    {
      "cell_type": "code",
      "source": [
        "print(df.head())"
      ],
      "metadata": {
        "colab": {
          "base_uri": "https://localhost:8080/"
        },
        "collapsed": true,
        "id": "YYCID9hLM_4o",
        "outputId": "f5852337-7a1b-4abf-b880-253cb6eaa780"
      },
      "execution_count": 6,
      "outputs": [
        {
          "output_type": "stream",
          "name": "stdout",
          "text": [
            "      PatientId  AppointmentID              ScheduledDay  \\\n",
            "0  2.987250e+13        5642903 2016-04-29 18:38:08+00:00   \n",
            "1  5.589978e+14        5642503 2016-04-29 16:08:27+00:00   \n",
            "2  4.262962e+12        5642549 2016-04-29 16:19:04+00:00   \n",
            "3  8.679512e+11        5642828 2016-04-29 17:29:31+00:00   \n",
            "4  8.841186e+12        5642494 2016-04-29 16:07:23+00:00   \n",
            "\n",
            "             AppointmentDay  Age      Neighbourhood  Scholarship  \\\n",
            "0 2016-04-29 00:00:00+00:00   62    JARDIM DA PENHA            0   \n",
            "1 2016-04-29 00:00:00+00:00   56    JARDIM DA PENHA            0   \n",
            "2 2016-04-29 00:00:00+00:00   62      MATA DA PRAIA            0   \n",
            "3 2016-04-29 00:00:00+00:00    8  PONTAL DE CAMBURI            0   \n",
            "4 2016-04-29 00:00:00+00:00   56    JARDIM DA PENHA            0   \n",
            "\n",
            "   Hipertension  Diabetes  Alcoholism  ...  SMS_received  No-show  \\\n",
            "0             1         0           0  ...             0        0   \n",
            "1             0         0           0  ...             0        0   \n",
            "2             0         0           0  ...             0        0   \n",
            "3             0         0           0  ...             0        0   \n",
            "4             1         1           0  ...             0        0   \n",
            "\n",
            "   waiting_days  appointment_weekday  Gender_M  Neighbourhood_encoded  \\\n",
            "0     -0.667655             1.561354         0              -1.544685   \n",
            "1     -0.667655             1.561354         1              -1.544685   \n",
            "2     -0.667655             1.561354         0              -1.493965   \n",
            "3     -0.667655             1.561354         0              -1.443246   \n",
            "4     -0.667655             1.561354         0              -1.544685   \n",
            "\n",
            "   num_prev_appts  missed_before  prev_no_show_rate  age_scaled  \n",
            "0       -0.324527              0                0.0    1.079279  \n",
            "1       -0.324527              0                0.0    0.819517  \n",
            "2       -0.324527              0                0.0    1.079279  \n",
            "3       -0.324527              0                0.0   -1.258580  \n",
            "4       -0.324527              0                0.0    0.819517  \n",
            "\n",
            "[5 rows x 21 columns]\n"
          ]
        }
      ]
    },
    {
      "cell_type": "code",
      "source": [
        "correlations = df[features + target].corr()['No-show'].drop('No-show')\n",
        "\n",
        "correlations = correlations.sort_values(key=abs, ascending=False)\n",
        "print(correlations)\n",
        "\n",
        "plt.figure(figsize=(10, 6))\n",
        "sns.heatmap(correlations.to_frame(), annot=True, cmap='coolwarm')\n",
        "plt.title('Feature Correlation with No-show')\n",
        "plt.show()"
      ],
      "metadata": {
        "colab": {
          "base_uri": "https://localhost:8080/",
          "height": 788
        },
        "collapsed": true,
        "id": "0N50GcIPcdEK",
        "outputId": "3525f49a-450f-4b18-f273-a5fc30e01181"
      },
      "execution_count": 7,
      "outputs": [
        {
          "output_type": "stream",
          "name": "stdout",
          "text": [
            "waiting_days             0.186062\n",
            "SMS_received             0.126678\n",
            "prev_no_show_rate        0.113428\n",
            "age_scaled              -0.060794\n",
            "Hipertension            -0.036176\n",
            "Scholarship              0.029391\n",
            "num_prev_appts          -0.023118\n",
            "Neighbourhood_encoded    0.019879\n",
            "Diabetes                -0.015169\n",
            "Handcap                 -0.007762\n",
            "Gender_M                -0.003966\n",
            "appointment_weekday      0.001437\n",
            "Alcoholism              -0.000245\n",
            "Name: No-show, dtype: float64\n"
          ]
        },
        {
          "output_type": "display_data",
          "data": {
            "text/plain": [
              "<Figure size 1000x600 with 2 Axes>"
            ],
            "image/png": "[encoded data removed]"
          },
          "metadata": {}
        }
      ]
    },
    {
      "cell_type": "code",
      "source": [
        "X = df[features]\n",
        "y = df['No-show']\n",
        "\n",
        "X = X.to_numpy()\n",
        "y = y.to_numpy()\n",
        "\n",
        "print(X.shape)"
      ],
      "metadata": {
        "colab": {
          "base_uri": "https://localhost:8080/"
        },
        "id": "6QHf7jGaDyEp",
        "outputId": "47d63b84-ecbe-4d2e-a7f1-732d6c3b40ea"
      },
      "execution_count": 8,
      "outputs": [
        {
          "output_type": "stream",
          "name": "stdout",
          "text": [
            "(110327, 13)\n"
          ]
        }
      ]
    },
    {
      "cell_type": "code",
      "source": [
        "data = list(zip(X, y))\n",
        "random.shuffle(data)\n",
        "\n",
        "x_shuffled, y_shuffled = zip(*data)\n",
        "x_shuffled = list(x_shuffled)\n",
        "y_shuffled = list(y_shuffled)\n",
        "\n",
        "split_index = int(0.8 * len(x_shuffled))\n",
        "x_train = np.array(x_shuffled[:split_index])\n",
        "y_train = np.array(y_shuffled[:split_index])\n",
        "x_test = np.array(x_shuffled[split_index:])\n",
        "y_test = np.array(y_shuffled[split_index:])"
      ],
      "metadata": {
        "id": "2UHbeykQCTUH"
      },
      "execution_count": 9,
      "outputs": []
    },
    {
      "cell_type": "code",
      "source": [
        "noodle = NeuralNetwork([13, 128, 64, 32, 2])\n",
        "noodle.train(x_train, y_train, alpha=0.2, epochs=100, batch_size=64)"
      ],
      "metadata": {
        "colab": {
          "base_uri": "https://localhost:8080/"
        },
        "id": "D6L65JXtCVQU",
        "outputId": "0119219c-4531-4315-c66c-7b6eefca73b7"
      },
      "execution_count": 10,
      "outputs": [
        {
          "output_type": "stream",
          "name": "stdout",
          "text": [
            "Epoch 1/100 — Loss: 0.4607 — Test Accuracy: 0.7988 — F1 Score: 0.4648\n",
            "Epoch 2/100 — Loss: 0.4486 — Test Accuracy: 0.7871 — F1 Score: 0.5652\n",
            "Epoch 3/100 — Loss: 0.4448 — Test Accuracy: 0.8018 — F1 Score: 0.5102\n",
            "Epoch 4/100 — Loss: 0.4421 — Test Accuracy: 0.8021 — F1 Score: 0.5043\n",
            "Epoch 5/100 — Loss: 0.4410 — Test Accuracy: 0.8014 — F1 Score: 0.4676\n",
            "Epoch 6/100 — Loss: 0.4394 — Test Accuracy: 0.8013 — F1 Score: 0.5112\n",
            "Epoch 7/100 — Loss: 0.4389 — Test Accuracy: 0.8024 — F1 Score: 0.4802\n",
            "Epoch 8/100 — Loss: 0.4379 — Test Accuracy: 0.8024 — F1 Score: 0.4827\n",
            "Epoch 9/100 — Loss: 0.4376 — Test Accuracy: 0.8025 — F1 Score: 0.4950\n",
            "Epoch 10/100 — Loss: 0.4370 — Test Accuracy: 0.8030 — F1 Score: 0.4898\n",
            "Epoch 11/100 — Loss: 0.4362 — Test Accuracy: 0.8027 — F1 Score: 0.4848\n",
            "Epoch 12/100 — Loss: 0.4360 — Test Accuracy: 0.8031 — F1 Score: 0.4911\n",
            "Epoch 13/100 — Loss: 0.4360 — Test Accuracy: 0.8028 — F1 Score: 0.4833\n",
            "Epoch 14/100 — Loss: 0.4356 — Test Accuracy: 0.8031 — F1 Score: 0.4977\n",
            "Epoch 15/100 — Loss: 0.4349 — Test Accuracy: 0.8007 — F1 Score: 0.4611\n",
            "Epoch 16/100 — Loss: 0.4348 — Test Accuracy: 0.7960 — F1 Score: 0.5758\n",
            "Epoch 17/100 — Loss: 0.4344 — Test Accuracy: 0.8034 — F1 Score: 0.4939\n",
            "Epoch 18/100 — Loss: 0.4340 — Test Accuracy: 0.8038 — F1 Score: 0.5196\n",
            "Epoch 19/100 — Loss: 0.4337 — Test Accuracy: 0.8028 — F1 Score: 0.4932\n",
            "Epoch 20/100 — Loss: 0.4331 — Test Accuracy: 0.8028 — F1 Score: 0.4819\n",
            "Epoch 21/100 — Loss: 0.4331 — Test Accuracy: 0.7995 — F1 Score: 0.4517\n",
            "Epoch 22/100 — Loss: 0.4327 — Test Accuracy: 0.8025 — F1 Score: 0.4779\n",
            "Epoch 23/100 — Loss: 0.4329 — Test Accuracy: 0.8026 — F1 Score: 0.5174\n",
            "Epoch 24/100 — Loss: 0.4325 — Test Accuracy: 0.8030 — F1 Score: 0.4847\n",
            "Epoch 25/100 — Loss: 0.4316 — Test Accuracy: 0.8035 — F1 Score: 0.4909\n",
            "Epoch 26/100 — Loss: 0.4316 — Test Accuracy: 0.8025 — F1 Score: 0.5221\n",
            "Epoch 27/100 — Loss: 0.4310 — Test Accuracy: 0.8045 — F1 Score: 0.5361\n",
            "Epoch 28/100 — Loss: 0.4309 — Test Accuracy: 0.7983 — F1 Score: 0.5765\n",
            "Epoch 29/100 — Loss: 0.4308 — Test Accuracy: 0.8039 — F1 Score: 0.4941\n",
            "Epoch 30/100 — Loss: 0.4300 — Test Accuracy: 0.8036 — F1 Score: 0.4914\n",
            "Epoch 31/100 — Loss: 0.4299 — Test Accuracy: 0.8046 — F1 Score: 0.5043\n",
            "Epoch 32/100 — Loss: 0.4296 — Test Accuracy: 0.8042 — F1 Score: 0.5510\n",
            "Epoch 33/100 — Loss: 0.4293 — Test Accuracy: 0.8051 — F1 Score: 0.5243\n",
            "Epoch 34/100 — Loss: 0.4297 — Test Accuracy: 0.7857 — F1 Score: 0.6006\n",
            "Epoch 35/100 — Loss: 0.4294 — Test Accuracy: 0.8056 — F1 Score: 0.5344\n",
            "Epoch 36/100 — Loss: 0.4287 — Test Accuracy: 0.8049 — F1 Score: 0.4985\n",
            "Epoch 37/100 — Loss: 0.4280 — Test Accuracy: 0.8037 — F1 Score: 0.4874\n",
            "Epoch 38/100 — Loss: 0.4278 — Test Accuracy: 0.8053 — F1 Score: 0.5024\n",
            "Epoch 39/100 — Loss: 0.4277 — Test Accuracy: 0.8049 — F1 Score: 0.5291\n",
            "Epoch 40/100 — Loss: 0.4272 — Test Accuracy: 0.8065 — F1 Score: 0.5202\n",
            "Epoch 41/100 — Loss: 0.4271 — Test Accuracy: 0.7948 — F1 Score: 0.6001\n",
            "Epoch 42/100 — Loss: 0.4268 — Test Accuracy: 0.8071 — F1 Score: 0.5226\n",
            "Epoch 43/100 — Loss: 0.4268 — Test Accuracy: 0.7918 — F1 Score: 0.6139\n",
            "Epoch 44/100 — Loss: 0.4259 — Test Accuracy: 0.8017 — F1 Score: 0.4670\n",
            "Epoch 45/100 — Loss: 0.4255 — Test Accuracy: 0.8051 — F1 Score: 0.4941\n",
            "Epoch 46/100 — Loss: 0.4255 — Test Accuracy: 0.8071 — F1 Score: 0.5299\n",
            "Epoch 47/100 — Loss: 0.4254 — Test Accuracy: 0.7900 — F1 Score: 0.6080\n",
            "Epoch 48/100 — Loss: 0.4251 — Test Accuracy: 0.8080 — F1 Score: 0.5421\n",
            "Epoch 49/100 — Loss: 0.4249 — Test Accuracy: 0.7880 — F1 Score: 0.6265\n",
            "Epoch 50/100 — Loss: 0.4246 — Test Accuracy: 0.7908 — F1 Score: 0.6165\n",
            "Epoch 51/100 — Loss: 0.4240 — Test Accuracy: 0.8078 — F1 Score: 0.5323\n",
            "Epoch 52/100 — Loss: 0.4237 — Test Accuracy: 0.7688 — F1 Score: 0.6336\n",
            "Epoch 53/100 — Loss: 0.4238 — Test Accuracy: 0.8017 — F1 Score: 0.4689\n",
            "Epoch 54/100 — Loss: 0.4235 — Test Accuracy: 0.8084 — F1 Score: 0.5706\n",
            "Epoch 55/100 — Loss: 0.4227 — Test Accuracy: 0.7984 — F1 Score: 0.6072\n",
            "Epoch 56/100 — Loss: 0.4221 — Test Accuracy: 0.8026 — F1 Score: 0.5351\n",
            "Epoch 57/100 — Loss: 0.4224 — Test Accuracy: 0.8045 — F1 Score: 0.6076\n",
            "Epoch 58/100 — Loss: 0.4213 — Test Accuracy: 0.8069 — F1 Score: 0.5469\n",
            "Epoch 59/100 — Loss: 0.4209 — Test Accuracy: 0.8081 — F1 Score: 0.5869\n",
            "Epoch 60/100 — Loss: 0.4210 — Test Accuracy: 0.8080 — F1 Score: 0.5312\n",
            "Epoch 61/100 — Loss: 0.4201 — Test Accuracy: 0.8067 — F1 Score: 0.4985\n",
            "Epoch 62/100 — Loss: 0.4200 — Test Accuracy: 0.8089 — F1 Score: 0.5290\n",
            "Epoch 63/100 — Loss: 0.4196 — Test Accuracy: 0.8101 — F1 Score: 0.5322\n",
            "Epoch 64/100 — Loss: 0.4194 — Test Accuracy: 0.8101 — F1 Score: 0.5552\n",
            "Epoch 65/100 — Loss: 0.4192 — Test Accuracy: 0.7980 — F1 Score: 0.5502\n",
            "Epoch 66/100 — Loss: 0.4191 — Test Accuracy: 0.8104 — F1 Score: 0.5645\n",
            "Epoch 67/100 — Loss: 0.4181 — Test Accuracy: 0.8064 — F1 Score: 0.5907\n",
            "Epoch 68/100 — Loss: 0.4178 — Test Accuracy: 0.8105 — F1 Score: 0.5620\n",
            "Epoch 69/100 — Loss: 0.4181 — Test Accuracy: 0.8070 — F1 Score: 0.6229\n",
            "Epoch 70/100 — Loss: 0.4177 — Test Accuracy: 0.8096 — F1 Score: 0.5278\n",
            "Epoch 71/100 — Loss: 0.4169 — Test Accuracy: 0.8101 — F1 Score: 0.6087\n",
            "Epoch 72/100 — Loss: 0.4164 — Test Accuracy: 0.8093 — F1 Score: 0.5171\n",
            "Epoch 73/100 — Loss: 0.4160 — Test Accuracy: 0.8105 — F1 Score: 0.5338\n",
            "Epoch 74/100 — Loss: 0.4169 — Test Accuracy: 0.8064 — F1 Score: 0.5877\n",
            "Epoch 75/100 — Loss: 0.4157 — Test Accuracy: 0.8058 — F1 Score: 0.6021\n",
            "Epoch 76/100 — Loss: 0.4148 — Test Accuracy: 0.8124 — F1 Score: 0.5574\n",
            "Epoch 77/100 — Loss: 0.4147 — Test Accuracy: 0.8152 — F1 Score: 0.5737\n",
            "Epoch 78/100 — Loss: 0.4137 — Test Accuracy: 0.8126 — F1 Score: 0.5473\n",
            "Epoch 79/100 — Loss: 0.4138 — Test Accuracy: 0.7951 — F1 Score: 0.6281\n",
            "Epoch 80/100 — Loss: 0.4134 — Test Accuracy: 0.8118 — F1 Score: 0.5337\n",
            "Epoch 81/100 — Loss: 0.4130 — Test Accuracy: 0.8135 — F1 Score: 0.6098\n",
            "Epoch 82/100 — Loss: 0.4129 — Test Accuracy: 0.8133 — F1 Score: 0.5687\n",
            "Epoch 83/100 — Loss: 0.4127 — Test Accuracy: 0.8124 — F1 Score: 0.5386\n",
            "Epoch 84/100 — Loss: 0.4118 — Test Accuracy: 0.8149 — F1 Score: 0.5745\n",
            "Epoch 85/100 — Loss: 0.4119 — Test Accuracy: 0.8132 — F1 Score: 0.5860\n",
            "Epoch 86/100 — Loss: 0.4121 — Test Accuracy: 0.8143 — F1 Score: 0.5678\n",
            "Epoch 87/100 — Loss: 0.4117 — Test Accuracy: 0.8126 — F1 Score: 0.5351\n",
            "Epoch 88/100 — Loss: 0.4115 — Test Accuracy: 0.8024 — F1 Score: 0.6392\n",
            "Epoch 89/100 — Loss: 0.4108 — Test Accuracy: 0.8142 — F1 Score: 0.5689\n",
            "Epoch 90/100 — Loss: 0.4102 — Test Accuracy: 0.7845 — F1 Score: 0.5933\n",
            "Epoch 91/100 — Loss: 0.4110 — Test Accuracy: 0.8114 — F1 Score: 0.6204\n",
            "Epoch 92/100 — Loss: 0.4099 — Test Accuracy: 0.8138 — F1 Score: 0.5690\n",
            "Epoch 93/100 — Loss: 0.4093 — Test Accuracy: 0.8174 — F1 Score: 0.6156\n",
            "Epoch 94/100 — Loss: 0.4092 — Test Accuracy: 0.8111 — F1 Score: 0.6151\n",
            "Epoch 95/100 — Loss: 0.4090 — Test Accuracy: 0.8124 — F1 Score: 0.5749\n",
            "Epoch 96/100 — Loss: 0.4088 — Test Accuracy: 0.8142 — F1 Score: 0.5444\n",
            "Epoch 97/100 — Loss: 0.4086 — Test Accuracy: 0.7134 — F1 Score: 0.5975\n",
            "Epoch 98/100 — Loss: 0.4085 — Test Accuracy: 0.8171 — F1 Score: 0.5771\n",
            "Epoch 99/100 — Loss: 0.4072 — Test Accuracy: 0.8125 — F1 Score: 0.6239\n",
            "Epoch 100/100 — Loss: 0.4072 — Test Accuracy: 0.8073 — F1 Score: 0.6442\n"
          ]
        }
      ]
    },
    {
      "cell_type": "code",
      "source": [
        "y_pred_test = noodle.forward(x_test)\n",
        "accuracy = np.mean(np.argmax(y_pred_test, axis=1) == y_test)\n",
        "\n",
        "f1 = noodle.compute_f1_score(y_test, np.argmax(y_pred_test, axis=1), num_classes=2)\n",
        "\n",
        "y_pred_scores = y_pred_test[:, 1]  # Probability for class '1' (No-show)\n",
        "pr_auc = noodle.compute_precision_recall_auc(y_test, y_pred_scores)\n",
        "\n",
        "print(f\"Test Accuracy: {accuracy:.4f}\")\n",
        "print(f\"F1 Score: {f1:.4f}\")\n",
        "print(f\"PR-AUC: {pr_auc:.4f}\")"
      ],
      "metadata": {
        "colab": {
          "base_uri": "https://localhost:8080/"
        },
        "id": "YrkRGPpsCXB9",
        "outputId": "7d52ed40-2d4b-4968-9910-765b5c1127d0"
      },
      "execution_count": 11,
      "outputs": [
        {
          "output_type": "stream",
          "name": "stdout",
          "text": [
            "Test Accuracy: 0.7722\n",
            "F1 Score: 0.5781\n",
            "PR-AUC: 0.3603\n"
          ]
        }
      ]
    },
    {
      "cell_type": "code",
      "source": [
        "import matplotlib.pyplot as plt\n",
        "import numpy as np\n",
        "\n",
        "def plot_confusion_matrix(y_true, y_pred, labels=[\"No-show=0\", \"No-show=1\"]):\n",
        "    cm = np.zeros((2, 2), dtype=int)\n",
        "\n",
        "    for t, p in zip(y_true, y_pred):\n",
        "        cm[t][p] += 1\n",
        "\n",
        "    print(\"Confusion Matrix:\")\n",
        "    print(cm)\n",
        "\n",
        "    fig, ax = plt.subplots()\n",
        "    cax = ax.matshow(cm, cmap='Blues')\n",
        "    plt.title(\"Confusion Matrix\")\n",
        "    fig.colorbar(cax)\n",
        "\n",
        "    ax.set_xticklabels([''] + labels)\n",
        "    ax.set_yticklabels([''] + labels)\n",
        "\n",
        "    plt.xlabel(\"Predicted\")\n",
        "    plt.ylabel(\"Actual\")\n",
        "\n",
        "    # Annotate cells\n",
        "    for (i, j), val in np.ndenumerate(cm):\n",
        "        ax.text(j, i, f'{val}', ha='center', va='center', color='black')\n",
        "\n",
        "    plt.show()\n"
      ],
      "metadata": {
        "id": "zAgPiD_6H-tJ"
      },
      "execution_count": 12,
      "outputs": []
    },
    {
      "cell_type": "code",
      "source": [
        "y_pred_classes = np.argmax(y_pred_test, axis=1)\n",
        "plot_confusion_matrix(y_test, y_pred_classes)"
      ],
      "metadata": {
        "colab": {
          "base_uri": "https://localhost:8080/",
          "height": 598
        },
        "id": "fvEzxSfPIIJW",
        "outputId": "c668f654-190c-48d0-c8bb-5917c50bbe11"
      },
      "execution_count": 13,
      "outputs": [
        {
          "output_type": "stream",
          "name": "stdout",
          "text": [
            "Confusion Matrix:\n",
            "[[16003  1594]\n",
            " [ 3433  1036]]\n"
          ]
        },
        {
          "output_type": "stream",
          "name": "stderr",
          "text": [
            "<ipython-input-12-79cce23b9d85>:18: UserWarning: set_ticklabels() should only be used with a fixed number of ticks, i.e. after set_ticks() or using a FixedLocator.\n",
            "  ax.set_xticklabels([''] + labels)\n",
            "<ipython-input-12-79cce23b9d85>:19: UserWarning: set_ticklabels() should only be used with a fixed number of ticks, i.e. after set_ticks() or using a FixedLocator.\n",
            "  ax.set_yticklabels([''] + labels)\n"
          ]
        },
        {
          "output_type": "display_data",
          "data": {
            "text/plain": [
              "<Figure size 640x480 with 2 Axes>"
            ],
            "image/png": "[encoded data removed]"
          },
          "metadata": {}
        }
      ]
    },
    {
      "cell_type": "code",
      "source": [],
      "metadata": {
        "id": "-_67rBb9KcUK"
      },
      "execution_count": 13,
      "outputs": []
    }
  ]
}
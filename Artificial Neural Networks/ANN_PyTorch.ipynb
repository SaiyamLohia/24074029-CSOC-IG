{
  "nbformat": 4,
  "nbformat_minor": 0,
  "metadata": {
    "colab": {
      "provenance": [],
      "gpuType": "T4"
    },
    "kernelspec": {
      "name": "python3",
      "display_name": "Python 3"
    },
    "language_info": {
      "name": "python"
    },
    "accelerator": "GPU"
  },
  "cells": [
    {
      "cell_type": "code",
      "execution_count": 1,
      "metadata": {
        "colab": {
          "base_uri": "https://localhost:8080/"
        },
        "id": "ELQTUuqOJ0q-",
        "outputId": "60c0c108-040b-44be-b271-d7131ad74418"
      },
      "outputs": [
        {
          "output_type": "stream",
          "name": "stdout",
          "text": [
            "Using device: cuda\n"
          ]
        }
      ],
      "source": [
        "import torch\n",
        "import torch.nn as nn\n",
        "import torch.nn.functional as F\n",
        "import torch.optim as optim\n",
        "from sklearn.model_selection import train_test_split\n",
        "from sklearn.metrics import f1_score, average_precision_score, confusion_matrix\n",
        "import pandas as pd\n",
        "import numpy as np\n",
        "import matplotlib.pyplot as plt\n",
        "import seaborn as sns\n",
        "\n",
        "device = torch.device(\"cuda\" if torch.cuda.is_available() else \"cpu\")\n",
        "print(\"Using device:\", device)\n",
        "\n",
        "# Set random seed\n",
        "torch.manual_seed(0)\n",
        "np.random.seed(0)"
      ]
    },
    {
      "cell_type": "code",
      "source": [
        "df = pd.read_csv('/content/train.csv')\n",
        "df = df.dropna()\n",
        "df = df[df['Age'] >= 0].reset_index(drop=True)"
      ],
      "metadata": {
        "id": "d3y5v5SHLhZq"
      },
      "execution_count": 2,
      "outputs": []
    },
    {
      "cell_type": "code",
      "source": [
        "# Date features\n",
        "df['ScheduledDay'] = pd.to_datetime(df['ScheduledDay'], errors='coerce')\n",
        "df['AppointmentDay'] = pd.to_datetime(df['AppointmentDay'], errors='coerce')\n",
        "df['waiting_days'] = ((df['AppointmentDay'] - df['ScheduledDay']).dt.days) + 1\n",
        "df['appointment_weekday'] = df['AppointmentDay'].dt.weekday\n",
        "\n",
        "# Binary and categorical features\n",
        "df['No-show'] = df['No-show'].map({'No': 0, 'Yes': 1})\n",
        "df['SMS_received'] = df['SMS_received'].astype(int)\n",
        "df['Scholarship'] = df['Scholarship'].astype(int)\n",
        "df = pd.get_dummies(df, columns=['Gender'], drop_first=True)\n",
        "df['Gender_M'] = df['Gender_M'].astype(int)\n",
        "df['Neighbourhood_encoded'], _ = pd.factorize(df['Neighbourhood'])\n",
        "\n",
        "# Remove outliers\n",
        "df = df[df['Handcap'] <= 1]\n",
        "\n",
        "# Historical behavior features\n",
        "df['num_prev_appts'] = df.groupby('PatientId').cumcount() + 1\n",
        "df['missed_before'] = df.groupby('PatientId')['No-show'].transform(lambda x: x.shift().cumsum()).fillna(0)\n",
        "df['missed_before'] = df['missed_before'].astype(int)\n",
        "df['prev_no_show_rate'] = df['missed_before'] / df['num_prev_appts']\n",
        "\n",
        "# Feature scaling\n",
        "for col in ['Age', 'waiting_days', 'Neighbourhood_encoded', 'num_prev_appts', 'appointment_weekday']:\n",
        "    df[col + '_scaled'] = (df[col] - df[col].mean()) / df[col].std()\n",
        "\n",
        "# Final feature list\n",
        "features = ['Age_scaled', 'Scholarship', 'Hipertension', 'Diabetes',\n",
        "            'Alcoholism', 'Handcap', 'SMS_received', 'waiting_days_scaled',\n",
        "            'appointment_weekday_scaled', 'Gender_M', 'Neighbourhood_encoded_scaled',\n",
        "            'prev_no_show_rate', 'num_prev_appts_scaled']"
      ],
      "metadata": {
        "id": "RT5YzVnYLled"
      },
      "execution_count": 3,
      "outputs": []
    },
    {
      "cell_type": "code",
      "source": [
        "X = df[features].values.astype(np.float32)\n",
        "y = df['No-show'].values.astype(np.int64)\n",
        "\n",
        "# Train-test split\n",
        "X_train, X_test, y_train, y_test = train_test_split(X, y, test_size=0.2, stratify=y)\n",
        "\n",
        "X_train_tensor = torch.tensor(X_train, dtype=torch.float32).to(device)\n",
        "y_train_tensor = torch.tensor(y_train, dtype=torch.float32).to(device)\n",
        "\n",
        "X_test_tensor = torch.tensor(X_test, dtype=torch.float32).to(device)\n",
        "y_test_tensor = torch.tensor(y_test, dtype=torch.float32).to(device)"
      ],
      "metadata": {
        "id": "nPF5KY0HL4Tm"
      },
      "execution_count": 17,
      "outputs": []
    },
    {
      "cell_type": "code",
      "source": [
        "class ANN(nn.Module):\n",
        "    def __init__(self, input_dim):\n",
        "        super(ANN, self).__init__()\n",
        "        self.fc1 = nn.Linear(input_dim, 128)\n",
        "        self.fc2 = nn.Linear(128, 64)\n",
        "        self.fc3 = nn.Linear(64, 32)\n",
        "        self.fc4 = nn.Linear(32, 1)  # Binary classification (2 classes)\n",
        "\n",
        "    def forward(self, x):\n",
        "        x = F.relu(self.fc1(x))\n",
        "        x = F.relu(self.fc2(x))\n",
        "        x = F.relu(self.fc3(x))\n",
        "        x = self.fc4(x)\n",
        "        return x"
      ],
      "metadata": {
        "id": "ALyN9aERMAUt"
      },
      "execution_count": 18,
      "outputs": []
    },
    {
      "cell_type": "code",
      "source": [
        "# Initialize model, loss, and optimizer\n",
        "model = ANN(X_train.shape[1]).to(device)\n",
        "pos_weight = torch.tensor([(len(y_train) - sum(y_train)) / sum(y_train)], dtype=torch.float32).to(device)\n",
        "criterion = nn.BCEWithLogitsLoss(pos_weight=pos_weight)\n",
        "optimizer = optim.Adam(model.parameters(), lr=0.001)\n",
        "\n",
        "# Train the model\n",
        "epochs = 30\n",
        "batch_size = 64\n",
        "\n",
        "for epoch in range(epochs):\n",
        "    permutation = torch.randperm(X_train_tensor.size(0))\n",
        "    for i in range(0, X_train_tensor.size(0), batch_size):\n",
        "        indices = permutation[i:i+batch_size]\n",
        "        batch_x, batch_y = X_train_tensor[indices], y_train_tensor[indices]\n",
        "\n",
        "        optimizer.zero_grad()\n",
        "        outputs = model(batch_x)\n",
        "        loss = criterion(outputs, batch_y.unsqueeze(1))\n",
        "        loss.backward()\n",
        "        optimizer.step()\n",
        "\n",
        "    with torch.no_grad():\n",
        "        logits = model(X_train_tensor)\n",
        "        probs = torch.sigmoid(logits)\n",
        "        preds = (probs >= 0.5).int()\n",
        "        acc = (preds.squeeze() == y_train_tensor).float().mean().item()\n",
        "        f1 = f1_score(y_train_tensor.cpu(), preds.cpu())\n",
        "        print(f\"Epoch {epoch+1} - Loss: {loss.item():.4f}, Accuracy: {acc:.4f}, F1 Score: {f1:.4f}\")"
      ],
      "metadata": {
        "colab": {
          "base_uri": "https://localhost:8080/"
        },
        "id": "d1VGDLE-MaTt",
        "outputId": "5c69351d-936a-4473-ef63-4d4aa21afc95"
      },
      "execution_count": 19,
      "outputs": [
        {
          "output_type": "stream",
          "name": "stdout",
          "text": [
            "Epoch 1 - Loss: 0.9677, Accuracy: 0.5935, F1 Score: 0.4434\n",
            "Epoch 2 - Loss: 0.9089, Accuracy: 0.5867, F1 Score: 0.4453\n",
            "Epoch 3 - Loss: 1.2132, Accuracy: 0.5444, F1 Score: 0.4376\n",
            "Epoch 4 - Loss: 0.5333, Accuracy: 0.6251, F1 Score: 0.4512\n",
            "Epoch 5 - Loss: 0.6652, Accuracy: 0.5685, F1 Score: 0.4468\n",
            "Epoch 6 - Loss: 0.7157, Accuracy: 0.6048, F1 Score: 0.4521\n",
            "Epoch 7 - Loss: 0.6567, Accuracy: 0.5804, F1 Score: 0.4497\n",
            "Epoch 8 - Loss: 0.6661, Accuracy: 0.5944, F1 Score: 0.4527\n",
            "Epoch 9 - Loss: 0.4169, Accuracy: 0.5864, F1 Score: 0.4530\n",
            "Epoch 10 - Loss: 0.6427, Accuracy: 0.6179, F1 Score: 0.4559\n",
            "Epoch 11 - Loss: 1.7865, Accuracy: 0.6000, F1 Score: 0.4546\n",
            "Epoch 12 - Loss: 0.4769, Accuracy: 0.6072, F1 Score: 0.4564\n",
            "Epoch 13 - Loss: 0.6601, Accuracy: 0.6096, F1 Score: 0.4587\n",
            "Epoch 14 - Loss: 0.1287, Accuracy: 0.6096, F1 Score: 0.4563\n",
            "Epoch 15 - Loss: 0.8830, Accuracy: 0.6053, F1 Score: 0.4574\n",
            "Epoch 16 - Loss: 1.1624, Accuracy: 0.5938, F1 Score: 0.4550\n",
            "Epoch 17 - Loss: 0.7596, Accuracy: 0.5972, F1 Score: 0.4550\n",
            "Epoch 18 - Loss: 0.4302, Accuracy: 0.6223, F1 Score: 0.4613\n",
            "Epoch 19 - Loss: 1.0342, Accuracy: 0.5950, F1 Score: 0.4572\n",
            "Epoch 20 - Loss: 1.0419, Accuracy: 0.6207, F1 Score: 0.4593\n",
            "Epoch 21 - Loss: 0.3770, Accuracy: 0.6004, F1 Score: 0.4594\n",
            "Epoch 22 - Loss: 2.2166, Accuracy: 0.6019, F1 Score: 0.4603\n",
            "Epoch 23 - Loss: 1.0246, Accuracy: 0.5932, F1 Score: 0.4577\n",
            "Epoch 24 - Loss: 0.8065, Accuracy: 0.6105, F1 Score: 0.4611\n",
            "Epoch 25 - Loss: 0.4054, Accuracy: 0.6130, F1 Score: 0.4640\n",
            "Epoch 26 - Loss: 0.7594, Accuracy: 0.6091, F1 Score: 0.4622\n",
            "Epoch 27 - Loss: 0.8453, Accuracy: 0.6211, F1 Score: 0.4654\n",
            "Epoch 28 - Loss: 0.5060, Accuracy: 0.6252, F1 Score: 0.4649\n",
            "Epoch 29 - Loss: 0.5643, Accuracy: 0.6075, F1 Score: 0.4636\n",
            "Epoch 30 - Loss: 0.4568, Accuracy: 0.6169, F1 Score: 0.4657\n"
          ]
        }
      ]
    },
    {
      "cell_type": "code",
      "source": [
        "# Evaluate on test data\n",
        "model.eval()\n",
        "with torch.no_grad():\n",
        "    logits = model(X_test_tensor)\n",
        "    probs = torch.sigmoid(logits)\n",
        "    preds = (probs >= 0.5).int()\n",
        "    f1 = f1_score(y_test_tensor.cpu(), preds.cpu())\n",
        "    acc = (preds.squeeze() == y_test_tensor).float().mean().item()\n",
        "    y_true = y_test_tensor.int().cpu().numpy()\n",
        "    preds = (probs >= 0.5).int().squeeze().cpu().numpy()\n",
        "    cm = confusion_matrix(y_true, preds)\n",
        "\n",
        "print(f\"\\nTest Accuracy: {acc:.4f}\")\n",
        "print(f\"F1 Score: {f1:.4f}\")\n",
        "print(f\"PR-AUC: {pr_auc:.4f}\")\n",
        "print(\"Confusion Matrix:\")\n",
        "print(cm)"
      ],
      "metadata": {
        "colab": {
          "base_uri": "https://localhost:8080/"
        },
        "id": "ZfkhD6wgMjrK",
        "outputId": "b3053433-6079-49d5-c241-bb920c59ab9f"
      },
      "execution_count": 23,
      "outputs": [
        {
          "output_type": "stream",
          "name": "stdout",
          "text": [
            "\n",
            "Test Accuracy: 0.6046\n",
            "F1 Score: 0.4487\n",
            "PR-AUC: 0.3706\n",
            "Confusion Matrix:\n",
            "[[9791 7819]\n",
            " [ 906 3550]]\n"
          ]
        }
      ]
    },
    {
      "cell_type": "code",
      "source": [
        "# Plot confusion matrix\n",
        "plt.figure(figsize=(5, 4))\n",
        "sns.heatmap(cm, annot=True, fmt='d', cmap='Blues', xticklabels=['Show', 'No-show'], yticklabels=['Show', 'No-show'])\n",
        "plt.xlabel(\"Predicted\")\n",
        "plt.ylabel(\"Actual\")\n",
        "plt.title(\"Confusion Matrix\")\n",
        "plt.show()\n"
      ],
      "metadata": {
        "colab": {
          "base_uri": "https://localhost:8080/",
          "height": 410
        },
        "id": "mPWR-jplMneP",
        "outputId": "6dbaa3e3-5ff8-42be-c168-bc29c59c0817"
      },
      "execution_count": 24,
      "outputs": [
        {
          "output_type": "display_data",
          "data": {
            "text/plain": [
              "<Figure size 500x400 with 2 Axes>"
            ],
            "image/png": "[encoded data removed]"
          },
          "metadata": {}
        }
      ]
    }
  ]
}
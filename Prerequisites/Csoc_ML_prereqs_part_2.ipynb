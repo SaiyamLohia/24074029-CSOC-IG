{
  "nbformat": 4,
  "nbformat_minor": 0,
  "metadata": {
    "colab": {
      "provenance": []
    },
    "kernelspec": {
      "name": "python3",
      "display_name": "Python 3"
    },
    "language_info": {
      "name": "python"
    }
  },
  "cells": [
    {
      "cell_type": "code",
      "execution_count": 1,
      "metadata": {
        "id": "o4Ac3Zxzl_h2"
      },
      "outputs": [],
      "source": [
        "from google.colab import files\n",
        "import matplotlib.pyplot as plt\n",
        "import pandas as pd\n",
        "import numpy as np\n",
        "import math\n",
        "import copy\n",
        "import random\n",
        "%matplotlib inline"
      ]
    },
    {
      "cell_type": "code",
      "source": [
        "# uploaded = files.upload()\n",
        "# df = pd.read_csv(\"housing.csv\")"
      ],
      "metadata": {
        "id": "-41WZawYnH3Z"
      },
      "execution_count": 2,
      "outputs": []
    },
    {
      "cell_type": "code",
      "source": [
        "df = pd.read_csv('/content/housing.csv')"
      ],
      "metadata": {
        "id": "0MLKC2P-nbVw"
      },
      "execution_count": 3,
      "outputs": []
    },
    {
      "cell_type": "code",
      "source": [
        "print(df.head())"
      ],
      "metadata": {
        "colab": {
          "base_uri": "https://localhost:8080/"
        },
        "id": "o-iVTzfo4HMT",
        "outputId": "e9f4ee67-187b-425e-c885-ddb77b6cfd35"
      },
      "execution_count": 4,
      "outputs": [
        {
          "output_type": "stream",
          "name": "stdout",
          "text": [
            "   longitude  latitude  housing_median_age  total_rooms  total_bedrooms  \\\n",
            "0    -122.23     37.88                41.0        880.0           129.0   \n",
            "1    -122.22     37.86                21.0       7099.0          1106.0   \n",
            "2    -122.24     37.85                52.0       1467.0           190.0   \n",
            "3    -122.25     37.85                52.0       1274.0           235.0   \n",
            "4    -122.25     37.85                52.0       1627.0           280.0   \n",
            "\n",
            "   population  households  median_income  median_house_value ocean_proximity  \n",
            "0       322.0       126.0         8.3252            452600.0        NEAR BAY  \n",
            "1      2401.0      1138.0         8.3014            358500.0        NEAR BAY  \n",
            "2       496.0       177.0         7.2574            352100.0        NEAR BAY  \n",
            "3       558.0       219.0         5.6431            341300.0        NEAR BAY  \n",
            "4       565.0       259.0         3.8462            342200.0        NEAR BAY  \n"
          ]
        }
      ]
    },
    {
      "cell_type": "code",
      "source": [
        "features = [\n",
        "    'location', 'housing_median_age', 'population',\n",
        "    'households', 'median_income',\n",
        "    'rooms_per_household', 'bedrooms_per_room', 'population_per_household'\n",
        "]\n",
        "\n",
        "df['rooms_per_household'] = df['total_rooms'] / df['households']\n",
        "df['bedrooms_per_room'] = df['total_bedrooms'] / df['total_rooms']\n",
        "df['population_per_household'] = df['population'] / df['households']\n",
        "df[\"location\"] = df[\"latitude\"] * df[\"longitude\"]\n",
        "\n",
        "\n",
        "df = df.dropna()\n",
        "\n",
        "X = df[features].to_numpy()\n",
        "\n",
        "Y = df['median_house_value'].to_numpy()\n",
        "\n",
        "\n",
        "corr = df[['location', 'housing_median_age', 'population',\n",
        "    'households', 'median_income',\n",
        "    'rooms_per_household', 'bedrooms_per_room', 'population_per_household', 'median_house_value']].corr()\n",
        "print(corr)\n"
      ],
      "metadata": {
        "colab": {
          "base_uri": "https://localhost:8080/"
        },
        "id": "w2d-2mjsovYA",
        "outputId": "9bcc91ef-4e54-4067-9578-81f2502f090b"
      },
      "execution_count": 5,
      "outputs": [
        {
          "output_type": "stream",
          "name": "stdout",
          "text": [
            "                          location  housing_median_age  population  \\\n",
            "location                  1.000000           -0.033185    0.108632   \n",
            "housing_median_age       -0.033185            1.000000   -0.295787   \n",
            "population                0.108632           -0.295787    1.000000   \n",
            "households                0.069245           -0.302768    0.907186   \n",
            "median_income             0.059996           -0.118278    0.005087   \n",
            "rooms_per_household      -0.090104           -0.153031   -0.071898   \n",
            "bedrooms_per_room         0.110624            0.136089    0.035319   \n",
            "population_per_household -0.001387            0.013258    0.070062   \n",
            "median_house_value        0.105040            0.106432   -0.025300   \n",
            "\n",
            "                          households  median_income  rooms_per_household  \\\n",
            "location                    0.069245       0.059996            -0.090104   \n",
            "housing_median_age         -0.302768      -0.118278            -0.153031   \n",
            "population                  0.907186       0.005087            -0.071898   \n",
            "households                  1.000000       0.013434            -0.080165   \n",
            "median_income               0.013434       1.000000             0.325307   \n",
            "rooms_per_household        -0.080165       0.325307             1.000000   \n",
            "bedrooms_per_room           0.065087      -0.615661            -0.416952   \n",
            "population_per_household   -0.027336       0.018894            -0.004873   \n",
            "median_house_value          0.064894       0.688355             0.151344   \n",
            "\n",
            "                          bedrooms_per_room  population_per_household  \\\n",
            "location                           0.110624                 -0.001387   \n",
            "housing_median_age                 0.136089                  0.013258   \n",
            "population                         0.035319                  0.070062   \n",
            "households                         0.065087                 -0.027336   \n",
            "median_income                     -0.615661                  0.018894   \n",
            "rooms_per_household               -0.416952                 -0.004873   \n",
            "bedrooms_per_room                  1.000000                  0.002938   \n",
            "population_per_household           0.002938                  1.000000   \n",
            "median_house_value                -0.255880                 -0.023639   \n",
            "\n",
            "                          median_house_value  \n",
            "location                            0.105040  \n",
            "housing_median_age                  0.106432  \n",
            "population                         -0.025300  \n",
            "households                          0.064894  \n",
            "median_income                       0.688355  \n",
            "rooms_per_household                 0.151344  \n",
            "bedrooms_per_room                  -0.255880  \n",
            "population_per_household           -0.023639  \n",
            "median_house_value                  1.000000  \n"
          ]
        }
      ]
    },
    {
      "cell_type": "code",
      "source": [
        "X = (X - X.mean(axis=0)) / X.std(axis=0)"
      ],
      "metadata": {
        "id": "4W-7YLBE6T8V"
      },
      "execution_count": 6,
      "outputs": []
    },
    {
      "cell_type": "code",
      "source": [
        "indices = np.arange(len(X))\n",
        "np.random.shuffle(indices)\n",
        "X, Y = X[indices], Y[indices]\n",
        "split = int(0.8 * len(X))\n",
        "x_train, x_test = X[:split], X[split:]\n",
        "y_train, y_test = Y[:split], Y[split:]"
      ],
      "metadata": {
        "id": "gaM6enNxIv01"
      },
      "execution_count": 7,
      "outputs": []
    },
    {
      "cell_type": "code",
      "source": [
        "# fig, axes = plt.subplots(1, len(features), figsize=(120, 50))\n",
        "\n",
        "# for i in range(len(features)):\n",
        "#   axes[i].scatter(df[features[i]], y_train)\n",
        "\n",
        "\n",
        "# plt.show()"
      ],
      "metadata": {
        "collapsed": true,
        "id": "8aCd4-BSqdWY"
      },
      "execution_count": 8,
      "outputs": []
    },
    {
      "cell_type": "code",
      "source": [
        "b_init = 100\n",
        "w_init = [0 for _ in range(len(x_train[0]))]"
      ],
      "metadata": {
        "id": "i4rF5aoPuFZF"
      },
      "execution_count": 9,
      "outputs": []
    },
    {
      "cell_type": "code",
      "source": [
        "def predict(X, w, b):\n",
        "    return X @ w + b"
      ],
      "metadata": {
        "id": "9TFSMHshu4Pc"
      },
      "execution_count": 10,
      "outputs": []
    },
    {
      "cell_type": "code",
      "source": [
        "def compute_cost(X, y, w, b):\n",
        "    errors = predict(X, w, b) - y\n",
        "    return (errors @ errors) / (2 * len(y))"
      ],
      "metadata": {
        "id": "Fj-apC3YwtoK"
      },
      "execution_count": 11,
      "outputs": []
    },
    {
      "cell_type": "code",
      "source": [
        "cost = compute_cost(x_train, y_train, w_init, b_init)\n",
        "print(cost)"
      ],
      "metadata": {
        "colab": {
          "base_uri": "https://localhost:8080/"
        },
        "id": "hkX1AojwxXgZ",
        "outputId": "f7226528-9631-42f4-e3b7-56f8689afaa9"
      },
      "execution_count": 12,
      "outputs": [
        {
          "output_type": "stream",
          "name": "stdout",
          "text": [
            "28180136600.53799\n"
          ]
        }
      ]
    },
    {
      "cell_type": "code",
      "source": [
        "def compute_gradient(X, y, w, b):\n",
        "    m = len(y)\n",
        "    errors = predict(X, w, b) - y\n",
        "    dj_dw = X.T @ errors / m\n",
        "    dj_db = np.sum(errors) / m\n",
        "    return dj_db, dj_dw"
      ],
      "metadata": {
        "id": "jMVcEh8N38sL"
      },
      "execution_count": 13,
      "outputs": []
    },
    {
      "cell_type": "code",
      "source": [
        "def gradient_descent(X, y, w, b, alpha, iterations):\n",
        "    history = []\n",
        "    for i in range(iterations):\n",
        "        dj_db, dj_dw = compute_gradient(X, y, w, b)\n",
        "        w -= alpha * dj_dw\n",
        "        b -= alpha * dj_db\n",
        "        cost = compute_cost(X, y, w, b)\n",
        "        history.append(cost)\n",
        "        if i % max(1, iterations // 20) == 0:\n",
        "            print(f\"Iter {i}: Cost={cost:.2e}\")\n",
        "    return w, b, history\n",
        "\n",
        "\n",
        "alpha = 0.01\n",
        "\n",
        "w, b, J_history = gradient_descent(x_train, y_train, w_init, b_init, alpha, 3000)\n",
        "print(w)"
      ],
      "metadata": {
        "colab": {
          "base_uri": "https://localhost:8080/"
        },
        "id": "QrKURDzfQ2Hi",
        "outputId": "a41c9480-4358-4984-bdae-49205d99de30"
      },
      "execution_count": 14,
      "outputs": [
        {
          "output_type": "stream",
          "name": "stdout",
          "text": [
            "Iter 0: Cost=2.77e+10\n",
            "Iter 150: Cost=4.45e+09\n",
            "Iter 300: Cost=3.07e+09\n",
            "Iter 450: Cost=2.90e+09\n",
            "Iter 600: Cost=2.85e+09\n",
            "Iter 750: Cost=2.82e+09\n",
            "Iter 900: Cost=2.81e+09\n",
            "Iter 1050: Cost=2.80e+09\n",
            "Iter 1200: Cost=2.79e+09\n",
            "Iter 1350: Cost=2.79e+09\n",
            "Iter 1500: Cost=2.78e+09\n",
            "Iter 1650: Cost=2.78e+09\n",
            "Iter 1800: Cost=2.78e+09\n",
            "Iter 1950: Cost=2.77e+09\n",
            "Iter 2100: Cost=2.77e+09\n",
            "Iter 2250: Cost=2.77e+09\n",
            "Iter 2400: Cost=2.77e+09\n",
            "Iter 2550: Cost=2.77e+09\n",
            "Iter 2700: Cost=2.77e+09\n",
            "Iter 2850: Cost=2.77e+09\n",
            "[  5740.45635539  23456.74116194 -43600.11936154  50504.69118933\n",
            "  95307.61048724   1587.19037667  24097.39874769   -466.43804489]\n"
          ]
        }
      ]
    },
    {
      "cell_type": "code",
      "source": [
        "def evaluate_metrics(y_true, y_pred):\n",
        "    mae = np.mean(np.abs(y_true - y_pred))\n",
        "    rmse = np.sqrt(np.mean((y_true - y_pred) ** 2))\n",
        "    r2 = 1 - np.sum((y_true - y_pred) ** 2) / np.sum((y_true - np.mean(y_true)) ** 2)\n",
        "    return mae, rmse, r2\n",
        "\n",
        "y_pred = predict(x_test, w, b)\n",
        "mae, rmse, r2 = evaluate_metrics(y_test, y_pred)\n",
        "print(f\"\\nMAE: {mae:.2f}, RMSE: {rmse:.2f}, R²: {r2:.4f}\")"
      ],
      "metadata": {
        "id": "xc4Mf7Dm-b6M",
        "colab": {
          "base_uri": "https://localhost:8080/"
        },
        "outputId": "7bcd5e49-4825-4e26-eea8-f55f92c068f5"
      },
      "execution_count": 15,
      "outputs": [
        {
          "output_type": "stream",
          "name": "stdout",
          "text": [
            "\n",
            "MAE: 53326.50, RMSE: 73351.48, R²: 0.5869\n"
          ]
        }
      ]
    },
    {
      "cell_type": "code",
      "source": [
        "plt.plot(J_history)\n",
        "plt.xlabel(\"Iterations\")\n",
        "plt.ylabel(\"Cost\")\n",
        "plt.title(\"Convergence of Gradient Descent\")\n",
        "plt.show()\n"
      ],
      "metadata": {
        "colab": {
          "base_uri": "https://localhost:8080/",
          "height": 472
        },
        "id": "UplBRwPXbscZ",
        "outputId": "f1e26707-e413-4f0b-cafb-97c74eedb357"
      },
      "execution_count": 16,
      "outputs": [
        {
          "output_type": "display_data",
          "data": {
            "text/plain": [
              "<Figure size 640x480 with 1 Axes>"
            ],
            "image/png": "[encoded data removed]"
          },
          "metadata": {}
        }
      ]
    }
  ]
}
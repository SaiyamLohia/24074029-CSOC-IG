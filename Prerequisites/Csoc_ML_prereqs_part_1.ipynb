{
  "nbformat": 4,
  "nbformat_minor": 0,
  "metadata": {
    "colab": {
      "provenance": []
    },
    "kernelspec": {
      "name": "python3",
      "display_name": "Python 3"
    },
    "language_info": {
      "name": "python"
    }
  },
  "cells": [
    {
      "cell_type": "code",
      "execution_count": 1,
      "metadata": {
        "id": "o4Ac3Zxzl_h2"
      },
      "outputs": [],
      "source": [
        "from google.colab import files\n",
        "import matplotlib.pyplot as plt\n",
        "import pandas as pd\n",
        "import numpy as np\n",
        "import math\n",
        "import copy\n",
        "import random\n",
        "%matplotlib inline"
      ]
    },
    {
      "cell_type": "code",
      "source": [
        "# uploaded = files.upload()\n",
        "# df = pd.read_csv(\"housing.csv\")"
      ],
      "metadata": {
        "id": "-41WZawYnH3Z"
      },
      "execution_count": 2,
      "outputs": []
    },
    {
      "cell_type": "code",
      "source": [
        "df = pd.read_csv('/content/housing.csv')"
      ],
      "metadata": {
        "id": "0MLKC2P-nbVw"
      },
      "execution_count": 3,
      "outputs": []
    },
    {
      "cell_type": "code",
      "source": [
        "print(df.head())"
      ],
      "metadata": {
        "colab": {
          "base_uri": "https://localhost:8080/"
        },
        "id": "o-iVTzfo4HMT",
        "outputId": "4f55a56b-16fc-4775-e5f5-78eac84b5b96"
      },
      "execution_count": 4,
      "outputs": [
        {
          "output_type": "stream",
          "name": "stdout",
          "text": [
            "   longitude  latitude  housing_median_age  total_rooms  total_bedrooms  \\\n",
            "0    -122.23     37.88                41.0        880.0           129.0   \n",
            "1    -122.22     37.86                21.0       7099.0          1106.0   \n",
            "2    -122.24     37.85                52.0       1467.0           190.0   \n",
            "3    -122.25     37.85                52.0       1274.0           235.0   \n",
            "4    -122.25     37.85                52.0       1627.0           280.0   \n",
            "\n",
            "   population  households  median_income  median_house_value ocean_proximity  \n",
            "0       322.0       126.0         8.3252            452600.0        NEAR BAY  \n",
            "1      2401.0      1138.0         8.3014            358500.0        NEAR BAY  \n",
            "2       496.0       177.0         7.2574            352100.0        NEAR BAY  \n",
            "3       558.0       219.0         5.6431            341300.0        NEAR BAY  \n",
            "4       565.0       259.0         3.8462            342200.0        NEAR BAY  \n"
          ]
        }
      ]
    },
    {
      "cell_type": "code",
      "source": [
        "features = [\n",
        "    'location', 'housing_median_age', 'population',\n",
        "    'households', 'median_income',\n",
        "    'rooms_per_household', 'bedrooms_per_room', 'population_per_household'\n",
        "]\n",
        "\n",
        "df['rooms_per_household'] = df['total_rooms'] / df['households']\n",
        "df['bedrooms_per_room'] = df['total_bedrooms'] / df['total_rooms']\n",
        "df['population_per_household'] = df['population'] / df['households']\n",
        "df[\"location\"] = df[\"latitude\"] * df[\"longitude\"]\n",
        "\n",
        "df = df.dropna()\n",
        "\n",
        "\n",
        "x_train = df[features]\n",
        "y_train = df['median_house_value']\n",
        "\n",
        "\n",
        "corr = df[['location', 'housing_median_age', 'population',\n",
        "    'households', 'median_income',\n",
        "    'rooms_per_household', 'bedrooms_per_room', 'population_per_household', 'median_house_value']].corr()\n",
        "print(corr)\n"
      ],
      "metadata": {
        "colab": {
          "base_uri": "https://localhost:8080/"
        },
        "id": "w2d-2mjsovYA",
        "outputId": "3d37d6ac-fada-4762-8030-8d2ce8cd9abd"
      },
      "execution_count": 5,
      "outputs": [
        {
          "output_type": "stream",
          "name": "stdout",
          "text": [
            "                          location  housing_median_age  population  \\\n",
            "location                  1.000000           -0.033185    0.108632   \n",
            "housing_median_age       -0.033185            1.000000   -0.295787   \n",
            "population                0.108632           -0.295787    1.000000   \n",
            "households                0.069245           -0.302768    0.907186   \n",
            "median_income             0.059996           -0.118278    0.005087   \n",
            "rooms_per_household      -0.090104           -0.153031   -0.071898   \n",
            "bedrooms_per_room         0.110624            0.136089    0.035319   \n",
            "population_per_household -0.001387            0.013258    0.070062   \n",
            "median_house_value        0.105040            0.106432   -0.025300   \n",
            "\n",
            "                          households  median_income  rooms_per_household  \\\n",
            "location                    0.069245       0.059996            -0.090104   \n",
            "housing_median_age         -0.302768      -0.118278            -0.153031   \n",
            "population                  0.907186       0.005087            -0.071898   \n",
            "households                  1.000000       0.013434            -0.080165   \n",
            "median_income               0.013434       1.000000             0.325307   \n",
            "rooms_per_household        -0.080165       0.325307             1.000000   \n",
            "bedrooms_per_room           0.065087      -0.615661            -0.416952   \n",
            "population_per_household   -0.027336       0.018894            -0.004873   \n",
            "median_house_value          0.064894       0.688355             0.151344   \n",
            "\n",
            "                          bedrooms_per_room  population_per_household  \\\n",
            "location                           0.110624                 -0.001387   \n",
            "housing_median_age                 0.136089                  0.013258   \n",
            "population                         0.035319                  0.070062   \n",
            "households                         0.065087                 -0.027336   \n",
            "median_income                     -0.615661                  0.018894   \n",
            "rooms_per_household               -0.416952                 -0.004873   \n",
            "bedrooms_per_room                  1.000000                  0.002938   \n",
            "population_per_household           0.002938                  1.000000   \n",
            "median_house_value                -0.255880                 -0.023639   \n",
            "\n",
            "                          median_house_value  \n",
            "location                            0.105040  \n",
            "housing_median_age                  0.106432  \n",
            "population                         -0.025300  \n",
            "households                          0.064894  \n",
            "median_income                       0.688355  \n",
            "rooms_per_household                 0.151344  \n",
            "bedrooms_per_room                  -0.255880  \n",
            "population_per_household           -0.023639  \n",
            "median_house_value                  1.000000  \n"
          ]
        }
      ]
    },
    {
      "cell_type": "code",
      "source": [
        "means = np.mean(x_train, axis=0)\n",
        "stds = np.std(x_train, axis=0)\n",
        "\n",
        "x_train = (x_train - means) / stds\n",
        "\n",
        "x_train = x_train.values.tolist()\n",
        "y_train = y_train.tolist()"
      ],
      "metadata": {
        "id": "4W-7YLBE6T8V"
      },
      "execution_count": 6,
      "outputs": []
    },
    {
      "cell_type": "code",
      "source": [
        "data = list(zip(x_train, y_train))\n",
        "random.shuffle(data)\n",
        "\n",
        "x_shuffled, y_shuffled = zip(*data)\n",
        "x_shuffled = list(x_shuffled)\n",
        "y_shuffled = list(y_shuffled)\n",
        "\n",
        "split_index = int(0.8 * len(x_shuffled))\n",
        "x_train = x_shuffled[:split_index]\n",
        "y_train = y_shuffled[:split_index]\n",
        "x_test = x_shuffled[split_index:]\n",
        "y_test = y_shuffled[split_index:]"
      ],
      "metadata": {
        "id": "gaM6enNxIv01"
      },
      "execution_count": 7,
      "outputs": []
    },
    {
      "cell_type": "code",
      "source": [
        "# fig, axes = plt.subplots(1, len(features), figsize=(120, 50))\n",
        "\n",
        "# for i in range(len(features)):\n",
        "#   axes[i].scatter(df[features[i]], y_train)\n",
        "\n",
        "\n",
        "# plt.show()"
      ],
      "metadata": {
        "collapsed": true,
        "id": "8aCd4-BSqdWY"
      },
      "execution_count": 8,
      "outputs": []
    },
    {
      "cell_type": "code",
      "source": [
        "m = len(x_train)\n",
        "n = len(x_train[0])\n",
        "\n",
        "b_init = 0\n",
        "w_init = [random.random() for _ in range(n)]\n"
      ],
      "metadata": {
        "id": "i4rF5aoPuFZF"
      },
      "execution_count": 9,
      "outputs": []
    },
    {
      "cell_type": "code",
      "source": [
        "def predict(x, w, b):\n",
        "    return sum(x_i * w_i for x_i, w_i in zip(x, w)) + b\n"
      ],
      "metadata": {
        "id": "9TFSMHshu4Pc"
      },
      "execution_count": 10,
      "outputs": []
    },
    {
      "cell_type": "code",
      "source": [
        "def compute_cost(X, y, w, b):\n",
        "    m = len(X)\n",
        "    cost = 0.0\n",
        "    for i in range(m):\n",
        "        f_wb_i = predict(X[i], w, b)\n",
        "        cost += (f_wb_i - y[i])**2\n",
        "    return cost / (2 * m)"
      ],
      "metadata": {
        "id": "Fj-apC3YwtoK"
      },
      "execution_count": 11,
      "outputs": []
    },
    {
      "cell_type": "code",
      "source": [
        "cost = compute_cost(x_train, y_train, w_init, b_init)\n",
        "print(cost)"
      ],
      "metadata": {
        "colab": {
          "base_uri": "https://localhost:8080/"
        },
        "id": "hkX1AojwxXgZ",
        "outputId": "e573a51e-f9ba-4272-b2cf-75756098c80a"
      },
      "execution_count": 12,
      "outputs": [
        {
          "output_type": "stream",
          "name": "stdout",
          "text": [
            "28032484519.29904\n"
          ]
        }
      ]
    },
    {
      "cell_type": "code",
      "source": [
        "def compute_gradient(X, y, w, b):\n",
        "    m = len(X)\n",
        "    n = len(X[0])\n",
        "    dj_dw = [0.0] * n\n",
        "    dj_db = 0.0\n",
        "    for i in range(m):\n",
        "        err = predict(X[i], w, b) - y[i]\n",
        "        for j in range(n):\n",
        "            dj_dw[j] += err * X[i][j]\n",
        "        dj_db += err\n",
        "    dj_dw = [dw / m for dw in dj_dw]\n",
        "    dj_db /= m\n",
        "    return dj_db, dj_dw"
      ],
      "metadata": {
        "id": "jMVcEh8N38sL"
      },
      "execution_count": 13,
      "outputs": []
    },
    {
      "cell_type": "code",
      "source": [
        "def gradient_descent(X, y, w_in, b_in, cost_function, gradient_function, alpha, num_iters):\n",
        "    J_history = []\n",
        "    w = copy.deepcopy(w_in)\n",
        "    b = b_in\n",
        "\n",
        "    for i in range(num_iters):\n",
        "        dj_db, dj_dw = gradient_function(X, y, w, b)\n",
        "\n",
        "        # Update weights\n",
        "        for j in range(len(w)):\n",
        "            w[j] -= alpha * dj_dw[j]\n",
        "        b -= alpha * dj_db\n",
        "\n",
        "        # Track cost every iteration\n",
        "        if i < 100000:\n",
        "            cost = cost_function(X, y, w, b)\n",
        "            J_history.append(cost)\n",
        "\n",
        "        # Print progress every 5%\n",
        "        if i % max(1, math.ceil(num_iters / 20)) == 0:\n",
        "            print(f\"Iteration {i:4d}: Cost {cost:.2e}, b {b}\")\n",
        "\n",
        "    return w, b, J_history\n",
        "\n",
        "\n",
        "alpha = 0.01\n",
        "\n",
        "w, b, J_history = gradient_descent(x_train, y_train, w_init, b_init, compute_cost, compute_gradient, alpha, 3000)\n",
        "print(w)"
      ],
      "metadata": {
        "colab": {
          "base_uri": "https://localhost:8080/"
        },
        "id": "QrKURDzfQ2Hi",
        "outputId": "db567b28-fec1-43ad-fdb8-b9fc2861d180"
      },
      "execution_count": 14,
      "outputs": [
        {
          "output_type": "stream",
          "name": "stdout",
          "text": [
            "Iteration    0: Cost 2.75e+10, b 2067.1175428134447\n",
            "Iteration  150: Cost 4.41e+09, b 161326.30391526598\n",
            "Iteration  300: Cost 3.04e+09, b 196572.28860702473\n",
            "Iteration  450: Cost 2.86e+09, b 204353.29421321323\n",
            "Iteration  600: Cost 2.81e+09, b 206055.41564102794\n",
            "Iteration  750: Cost 2.79e+09, b 206418.396082582\n",
            "Iteration  900: Cost 2.77e+09, b 206490.38339522932\n",
            "Iteration 1050: Cost 2.77e+09, b 206501.52223123563\n",
            "Iteration 1200: Cost 2.76e+09, b 206501.34405405002\n",
            "Iteration 1350: Cost 2.75e+09, b 206499.91309597983\n",
            "Iteration 1500: Cost 2.75e+09, b 206498.91755681587\n",
            "Iteration 1650: Cost 2.75e+09, b 206498.4160542272\n",
            "Iteration 1800: Cost 2.75e+09, b 206498.2401801533\n",
            "Iteration 1950: Cost 2.74e+09, b 206498.24931925855\n",
            "Iteration 2100: Cost 2.74e+09, b 206498.35411732778\n",
            "Iteration 2250: Cost 2.74e+09, b 206498.50247667052\n",
            "Iteration 2400: Cost 2.74e+09, b 206498.66534728248\n",
            "Iteration 2550: Cost 2.74e+09, b 206498.82718075727\n",
            "Iteration 2700: Cost 2.74e+09, b 206498.98014026167\n",
            "Iteration 2850: Cost 2.74e+09, b 206499.12071323022\n",
            "[5778.865203812458, 23246.96479419501, -41491.83125557947, 49116.22897241973, 95933.51210566904, 2111.6063045668097, 24967.554811675116, -517.5701327655911]\n"
          ]
        }
      ]
    },
    {
      "cell_type": "code",
      "source": [
        "\n",
        "def evaluate_metrics(y_true, y_pred):\n",
        "    m = len(y_true)\n",
        "    mae = sum(abs(y_t - y_p) for y_t, y_p in zip(y_true, y_pred)) / m\n",
        "    rmse = math.sqrt(sum((y_t - y_p)**2 for y_t, y_p in zip(y_true, y_pred)) / m)\n",
        "    mean_y = sum(y_true) / m\n",
        "    ss_total = sum((y - mean_y)**2 for y in y_true)\n",
        "    ss_res = sum((y_t - y_p)**2 for y_t, y_p in zip(y_true, y_pred))\n",
        "    r2 = 1 - (ss_res / ss_total) if ss_total != 0 else 0\n",
        "    return mae, rmse, r2\n",
        "\n",
        "\n",
        "\n",
        "y_pred = [predict(x_i, w, b) for x_i in x_test]\n",
        "\n",
        "print(evaluate_metrics(y_test, y_pred))"
      ],
      "metadata": {
        "colab": {
          "base_uri": "https://localhost:8080/"
        },
        "id": "xc4Mf7Dm-b6M",
        "outputId": "f8c0160d-c652-41fd-d970-1e9fe2a68293"
      },
      "execution_count": 15,
      "outputs": [
        {
          "output_type": "stream",
          "name": "stdout",
          "text": [
            "(54592.04639228777, 75035.51028542085, 0.5760912338656133)\n"
          ]
        }
      ]
    },
    {
      "cell_type": "code",
      "source": [
        "plt.plot(J_history)\n",
        "plt.xlabel(\"Iterations\")\n",
        "plt.ylabel(\"Cost\")\n",
        "plt.title(\"Convergence of Gradient Descent\")\n",
        "plt.show()\n"
      ],
      "metadata": {
        "colab": {
          "base_uri": "https://localhost:8080/",
          "height": 472
        },
        "id": "L9qpo5Ytbof7",
        "outputId": "eeb864ba-85a8-4bdd-9f40-e29081d0f4b1"
      },
      "execution_count": 16,
      "outputs": [
        {
          "output_type": "display_data",
          "data": {
            "text/plain": [
              "<Figure size 640x480 with 1 Axes>"
            ],
            "image/png": "[encoded data removed]"
          },
          "metadata": {}
        }
      ]
    }
  ]
}